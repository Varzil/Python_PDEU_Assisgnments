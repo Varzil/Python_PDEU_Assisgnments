{
 "cells": [
  {
   "cell_type": "markdown",
   "id": "a7a9c11e",
   "metadata": {},
   "source": [
    "# Assignment 5 -- Exception handling"
   ]
  },
  {
   "cell_type": "markdown",
   "id": "05236925",
   "metadata": {},
   "source": [
    "## NAME -- Varzil Thakkar \n",
    "## ROLL -- 21BCP090"
   ]
  },
  {
   "cell_type": "markdown",
   "id": "d6430daa",
   "metadata": {},
   "source": [
    "### Q. Write exception handling programs for the following errors:\n",
    "\n",
    "1.To handle zero division error.\n",
    "\n",
    "2.To handle error while working with file\n",
    "\n",
    "3.To handle value error"
   ]
  },
  {
   "cell_type": "markdown",
   "id": "1ec2e027",
   "metadata": {},
   "source": [
    "# Exception Handling in python"
   ]
  },
  {
   "cell_type": "markdown",
   "id": "267defc4",
   "metadata": {},
   "source": [
    "1. Handling the zero division error"
   ]
  },
  {
   "cell_type": "code",
   "execution_count": 7,
   "id": "d655b835",
   "metadata": {},
   "outputs": [
    {
     "name": "stdout",
     "output_type": "stream",
     "text": [
      "Enter number one 1\n",
      "Enter number two 0\n",
      "Error try again\n"
     ]
    }
   ],
   "source": [
    "try:\n",
    "    a=int(input(\"Enter number one \"))\n",
    "    b=int(input(\"Enter number two \"))\n",
    "    div= a/b\n",
    "    print(div)\n",
    "    \n",
    "except:\n",
    "    print(\"Error try again\")"
   ]
  },
  {
   "cell_type": "markdown",
   "id": "fc27d15e",
   "metadata": {},
   "source": [
    "2.To handle error while working with file"
   ]
  },
  {
   "cell_type": "code",
   "execution_count": 1,
   "id": "1e6e8727",
   "metadata": {},
   "outputs": [
    {
     "ename": "FileNotFoundError",
     "evalue": "[Errno 2] No such file or directory: 'exception.txt'",
     "output_type": "error",
     "traceback": [
      "\u001b[0;31m---------------------------------------------------------------------------\u001b[0m",
      "\u001b[0;31mFileNotFoundError\u001b[0m                         Traceback (most recent call last)",
      "\u001b[0;32m/var/folders/_j/759_qxxj5g78z3vbyyd3zb6c0000gn/T/ipykernel_68899/1377049080.py\u001b[0m in \u001b[0;36m<module>\u001b[0;34m\u001b[0m\n\u001b[0;32m----> 1\u001b[0;31m \u001b[0;32mwith\u001b[0m \u001b[0mopen\u001b[0m\u001b[0;34m(\u001b[0m\u001b[0;34m\"exception.txt\"\u001b[0m\u001b[0;34m)\u001b[0m \u001b[0;32mas\u001b[0m \u001b[0mf\u001b[0m\u001b[0;34m:\u001b[0m\u001b[0;34m\u001b[0m\u001b[0;34m\u001b[0m\u001b[0m\n\u001b[0m\u001b[1;32m      2\u001b[0m     \u001b[0;32mfor\u001b[0m \u001b[0mi\u001b[0m \u001b[0;32min\u001b[0m \u001b[0mf\u001b[0m\u001b[0;34m:\u001b[0m\u001b[0;34m\u001b[0m\u001b[0;34m\u001b[0m\u001b[0m\n\u001b[1;32m      3\u001b[0m         \u001b[0mprint\u001b[0m\u001b[0;34m(\u001b[0m\u001b[0mi\u001b[0m\u001b[0;34m)\u001b[0m\u001b[0;34m\u001b[0m\u001b[0;34m\u001b[0m\u001b[0m\n\u001b[1;32m      4\u001b[0m \u001b[0;34m\u001b[0m\u001b[0m\n",
      "\u001b[0;31mFileNotFoundError\u001b[0m: [Errno 2] No such file or directory: 'exception.txt'"
     ]
    }
   ],
   "source": [
    "#FileNotFound Error --> When files are not present\n",
    "\n",
    "with open(\"exception.txt\") as f: \n",
    "    for i in f:\n",
    "        print(i)\n",
    "        "
   ]
  },
  {
   "cell_type": "code",
   "execution_count": 3,
   "id": "12fcb0d8",
   "metadata": {},
   "outputs": [
    {
     "name": "stdout",
     "output_type": "stream",
     "text": [
      "File is not present. Please check file path or existence of file\n"
     ]
    }
   ],
   "source": [
    "# Using try except block to solve problem\n",
    "\n",
    "try:\n",
    "    with open(\"exception.txt\") as f: \n",
    "        for i in f:\n",
    "            print(i)\n",
    "except:\n",
    "    print(\"File is not present. Please check file path or existence of file\")"
   ]
  },
  {
   "cell_type": "markdown",
   "id": "25053c9c",
   "metadata": {},
   "source": [
    "3.To handle value error"
   ]
  },
  {
   "cell_type": "code",
   "execution_count": 4,
   "id": "3d0ca2c9",
   "metadata": {},
   "outputs": [
    {
     "name": "stdout",
     "output_type": "stream",
     "text": [
      "Value error handled\n"
     ]
    }
   ],
   "source": [
    "try:\n",
    "    raise ValueError\n",
    "except:\n",
    "    print(\"Value error handled\")"
   ]
  },
  {
   "cell_type": "code",
   "execution_count": null,
   "id": "fe5685c6",
   "metadata": {},
   "outputs": [],
   "source": []
  }
 ],
 "metadata": {
  "kernelspec": {
   "display_name": "Python 3 (ipykernel)",
   "language": "python",
   "name": "python3"
  },
  "language_info": {
   "codemirror_mode": {
    "name": "ipython",
    "version": 3
   },
   "file_extension": ".py",
   "mimetype": "text/x-python",
   "name": "python",
   "nbconvert_exporter": "python",
   "pygments_lexer": "ipython3",
   "version": "3.9.5"
  }
 },
 "nbformat": 4,
 "nbformat_minor": 5
}
