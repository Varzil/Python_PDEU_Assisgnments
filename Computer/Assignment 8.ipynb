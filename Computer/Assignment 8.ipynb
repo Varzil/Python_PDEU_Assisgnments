{
 "cells": [
  {
   "cell_type": "markdown",
   "id": "3d2b374b",
   "metadata": {},
   "source": [
    "# Name :- Varzil Thakkar\n",
    "# Roll No :- 21BCP090\n",
    "## Assignmnet 8"
   ]
  },
  {
   "cell_type": "markdown",
   "id": "bf587195",
   "metadata": {},
   "source": [
    "### Part 1 Implement the OOPs examples provided in the PPT."
   ]
  },
  {
   "cell_type": "code",
   "execution_count": 20,
   "id": "a858d706",
   "metadata": {},
   "outputs": [
    {
     "name": "stdout",
     "output_type": "stream",
     "text": [
      "Hello dog is created\n"
     ]
    }
   ],
   "source": [
    "class Dog:\n",
    "    def __init__(self,n,sc,el,spot):\n",
    "        self.name = n\n",
    "        self.skinColor = sc\n",
    "        self.earLength = el\n",
    "        self.isSpotted =spot\n",
    "        print(\"Dog has been created!!\")\n",
    "    def walk(self):\n",
    "        print(\"{0} is walking!\".format(self.name))\n",
    "    def eat(self):\n",
    "        print(\"{0} is eating!\".format(self.name))\n",
    "print(\"Hello dog is created\")"
   ]
  },
  {
   "cell_type": "code",
   "execution_count": 22,
   "id": "268d7339",
   "metadata": {},
   "outputs": [
    {
     "name": "stdout",
     "output_type": "stream",
     "text": [
      "Dog has been created!!\n",
      "ScoobyDoo is walking!\n",
      "\n",
      "Dog has been created!!\n",
      "Tommy is walking!\n"
     ]
    }
   ],
   "source": [
    "doggie1 = Dog(\"ScoobyDoo\",\"brown\",\"short\",True)\n",
    "doggie1.walk()\n",
    "print()\n",
    "doggie2 =Dog('Tommy', 'white', 'long', False )\n",
    "doggie2.walk()"
   ]
  },
  {
   "cell_type": "code",
   "execution_count": 24,
   "id": "86a0f097",
   "metadata": {},
   "outputs": [
    {
     "name": "stdout",
     "output_type": "stream",
     "text": [
      "Hello my name is John\n"
     ]
    }
   ],
   "source": [
    "class Person:\n",
    "    def __init__(self, name,age):\n",
    "        self.name =name\n",
    "        self.age = age\n",
    "    def myfunc(self):\n",
    "        print(\"Hello my name is \" +self.name)\n",
    "        \n",
    "# Creating John with age 36        \n",
    "p1 = Person(\"John\",36)\n",
    "p1.myfunc()"
   ]
  },
  {
   "cell_type": "markdown",
   "id": "565d0242",
   "metadata": {},
   "source": [
    "### Part 2 Write a python code using the concept of OOPs to add two complex numbers"
   ]
  },
  {
   "cell_type": "code",
   "execution_count": 38,
   "id": "ff3df19a",
   "metadata": {},
   "outputs": [],
   "source": [
    "class Complex:\n",
    "    def __init__(self, real,img):\n",
    "        self.real=int(real)\n",
    "        self.img=int(img)\n",
    "    def printCom(self):\n",
    "        print(\"Created complex number : {0} + {1}i\".format(self.real,self.img))\n",
    "    def comSum(self,number):\n",
    "        re=self.real+number.real\n",
    "        im=self.img+number.img\n",
    "        result=Complex(re,im)\n",
    "        return result\n",
    "    "
   ]
  },
  {
   "cell_type": "code",
   "execution_count": 39,
   "id": "510c3a71",
   "metadata": {},
   "outputs": [],
   "source": [
    "c1=Complex(2,3)\n",
    "c2=Complex(4,5)"
   ]
  },
  {
   "cell_type": "code",
   "execution_count": 40,
   "id": "e4474515",
   "metadata": {},
   "outputs": [
    {
     "name": "stdout",
     "output_type": "stream",
     "text": [
      "Created complex number : 2 + 3i\n",
      "Created complex number : 4 + 5i\n"
     ]
    }
   ],
   "source": [
    "c1.printCom()\n",
    "c2.printCom()"
   ]
  },
  {
   "cell_type": "code",
   "execution_count": 42,
   "id": "50d388b6",
   "metadata": {},
   "outputs": [],
   "source": [
    "res=c1.comSum(c2)"
   ]
  },
  {
   "cell_type": "code",
   "execution_count": 43,
   "id": "c3712d47",
   "metadata": {},
   "outputs": [
    {
     "name": "stdout",
     "output_type": "stream",
     "text": [
      "Created complex number : 6 + 8i\n"
     ]
    }
   ],
   "source": [
    "res.printCom()"
   ]
  },
  {
   "cell_type": "code",
   "execution_count": null,
   "id": "e58e3f0f",
   "metadata": {},
   "outputs": [],
   "source": []
  }
 ],
 "metadata": {
  "kernelspec": {
   "display_name": "Python 3 (ipykernel)",
   "language": "python",
   "name": "python3"
  },
  "language_info": {
   "codemirror_mode": {
    "name": "ipython",
    "version": 3
   },
   "file_extension": ".py",
   "mimetype": "text/x-python",
   "name": "python",
   "nbconvert_exporter": "python",
   "pygments_lexer": "ipython3",
   "version": "3.9.5"
  }
 },
 "nbformat": 4,
 "nbformat_minor": 5
}
