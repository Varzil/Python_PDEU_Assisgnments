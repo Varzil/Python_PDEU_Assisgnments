{
 "cells": [
  {
   "cell_type": "markdown",
   "metadata": {
    "colab": {
     "base_uri": "https://localhost:8080/"
    },
    "executionInfo": {
     "elapsed": 687,
     "status": "ok",
     "timestamp": 1650016274155,
     "user": {
      "displayName": "Varzil Thakkar",
      "userId": "03307470386235995301"
     },
     "user_tz": -330
    },
    "id": "REkPTBWPjDXi",
    "outputId": "b23e0527-58f7-4390-d676-af8b193f1219"
   },
   "source": [
    "# Assignment 6\n",
    "\n",
    "## Name-Varzil Thakkar\n",
    "## Roll No- 21BCP090\n",
    "\n",
    "1. Practice all the examples for List, Tuple, Set and Dictionaries. provided in the attached pdf and submit the notebook.\n",
    "2. Write a Python program to read the admission number and names of 10 students from the keyboard. Create a dictionary of these admission number and names and then display them on the screen"
   ]
  },
  {
   "cell_type": "markdown",
   "metadata": {},
   "source": [
    "## Question 1\n"
   ]
  },
  {
   "cell_type": "code",
   "execution_count": null,
   "metadata": {},
   "outputs": [],
   "source": [
    "#List Examples\n",
    "a=[1,2,3,4]\n",
    "print(type(a))\n",
    "\n",
    "\n"
   ]
  },
  {
   "cell_type": "code",
   "execution_count": 2,
   "metadata": {
    "colab": {
     "base_uri": "https://localhost:8080/"
    },
    "executionInfo": {
     "elapsed": 7,
     "status": "ok",
     "timestamp": 1650016274156,
     "user": {
      "displayName": "Varzil Thakkar",
      "userId": "03307470386235995301"
     },
     "user_tz": -330
    },
    "id": "alXWk2RjoL0B",
    "outputId": "33c2e2cd-b1ff-405f-dcf5-4cedb15e023f"
   },
   "outputs": [
    {
     "name": "stdout",
     "output_type": "stream",
     "text": [
      "[1, 2, 3, 4, 'varzil']\n"
     ]
    }
   ],
   "source": [
    "\n",
    "a.append('varzil')\n",
    "print(a)"
   ]
  },
  {
   "cell_type": "code",
   "execution_count": 3,
   "metadata": {
    "colab": {
     "base_uri": "https://localhost:8080/"
    },
    "executionInfo": {
     "elapsed": 6,
     "status": "ok",
     "timestamp": 1650016274156,
     "user": {
      "displayName": "Varzil Thakkar",
      "userId": "03307470386235995301"
     },
     "user_tz": -330
    },
    "id": "KhVpFrk5oJWg",
    "outputId": "c42fce13-a1b9-4e41-ac9b-0919ced96c13"
   },
   "outputs": [
    {
     "name": "stdout",
     "output_type": "stream",
     "text": [
      "['apple', 'watermelon']\n"
     ]
    }
   ],
   "source": [
    "mylist = [\"apple\", \"banana\", \"cherry\"]  \n",
    "mylist[1:3] = [\"watermelon\"]  \n",
    "print(mylist)"
   ]
  },
  {
   "cell_type": "code",
   "execution_count": 4,
   "metadata": {
    "colab": {
     "base_uri": "https://localhost:8080/"
    },
    "executionInfo": {
     "elapsed": 654,
     "status": "ok",
     "timestamp": 1650016274806,
     "user": {
      "displayName": "Varzil Thakkar",
      "userId": "03307470386235995301"
     },
     "user_tz": -330
    },
    "id": "Kw9lofGPoHIh",
    "outputId": "ed8f18aa-74d4-463a-901a-7f47a8db5dff"
   },
   "outputs": [
    {
     "name": "stdout",
     "output_type": "stream",
     "text": [
      "apple\n",
      "banana\n",
      "cherry\n"
     ]
    }
   ],
   "source": [
    "mylist = [\"apple\", \"banana\", \"cherry\"] \n",
    "i = 0 \n",
    "while i < len(mylist): \n",
    "   print(mylist[i]) \n",
    "   i = i + 1"
   ]
  },
  {
   "cell_type": "code",
   "execution_count": 5,
   "metadata": {
    "colab": {
     "base_uri": "https://localhost:8080/"
    },
    "executionInfo": {
     "elapsed": 8,
     "status": "ok",
     "timestamp": 1650016274806,
     "user": {
      "displayName": "Varzil Thakkar",
      "userId": "03307470386235995301"
     },
     "user_tz": -330
    },
    "id": "KaEvCoxkjH6F",
    "outputId": "8a404ddf-26cf-44ae-cedd-67abd3114a25"
   },
   "outputs": [
    {
     "name": "stdout",
     "output_type": "stream",
     "text": [
      "[1, 'vatsal', 2, 3, 4, 'varzil']\n",
      "['apple', 'banana', 'watermelon', 'cherry']\n"
     ]
    }
   ],
   "source": [
    "a.insert(1,'vatsal')\n",
    "print(a)\n",
    "mylist = [\"apple\", \"banana\", \"cherry\"]  \n",
    "mylist.insert(2, \"watermelon\")  \n",
    "print(mylist)\n",
    "\n",
    "\n",
    "\n",
    "\n",
    "\n"
   ]
  },
  {
   "cell_type": "code",
   "execution_count": 6,
   "metadata": {
    "colab": {
     "base_uri": "https://localhost:8080/"
    },
    "executionInfo": {
     "elapsed": 8,
     "status": "ok",
     "timestamp": 1650016274807,
     "user": {
      "displayName": "Varzil Thakkar",
      "userId": "03307470386235995301"
     },
     "user_tz": -330
    },
    "id": "4yjeZ6GjoRjR",
    "outputId": "40859e1b-d605-4e8a-b8aa-0bd37374382c"
   },
   "outputs": [
    {
     "name": "stdout",
     "output_type": "stream",
     "text": [
      "['apple', 'banana', 'cherry', 'mango', 'pineapple', 'papaya']\n"
     ]
    }
   ],
   "source": [
    "mylist = [\"apple\", \"banana\", \"cherry\"] \n",
    "morefruits = [\"mango\", \"pineapple\", \"papaya\"] \n",
    "mylist.extend(morefruits) \n",
    "print(mylist)\n"
   ]
  },
  {
   "cell_type": "code",
   "execution_count": 7,
   "metadata": {
    "colab": {
     "base_uri": "https://localhost:8080/"
    },
    "executionInfo": {
     "elapsed": 6,
     "status": "ok",
     "timestamp": 1650016274807,
     "user": {
      "displayName": "Varzil Thakkar",
      "userId": "03307470386235995301"
     },
     "user_tz": -330
    },
    "id": "DK8hb9DVoSZI",
    "outputId": "05289e42-6e9d-4f61-b30b-84f2b975c96e"
   },
   "outputs": [
    {
     "name": "stdout",
     "output_type": "stream",
     "text": [
      "apple\n",
      "banana\n",
      "cherry\n"
     ]
    }
   ],
   "source": [
    "mylist = [\"apple\", \"banana\", \"cherry\"]  \n",
    "for x in mylist: \n",
    "  print(x)"
   ]
  },
  {
   "cell_type": "code",
   "execution_count": 8,
   "metadata": {
    "id": "XfSuVyRrjLfc"
   },
   "outputs": [],
   "source": [
    "# Tuple\n",
    "\n",
    "b=(1,2,3,4)\n",
    "\n"
   ]
  },
  {
   "cell_type": "code",
   "execution_count": 9,
   "metadata": {
    "colab": {
     "base_uri": "https://localhost:8080/"
    },
    "executionInfo": {
     "elapsed": 4,
     "status": "ok",
     "timestamp": 1650016274807,
     "user": {
      "displayName": "Varzil Thakkar",
      "userId": "03307470386235995301"
     },
     "user_tz": -330
    },
    "id": "S-5E-JvcoU5x",
    "outputId": "d95e4de3-23d0-4664-ca9e-5d8bab1aa284"
   },
   "outputs": [
    {
     "name": "stdout",
     "output_type": "stream",
     "text": [
      "<class 'tuple'>\n",
      "banana\n"
     ]
    }
   ],
   "source": [
    "print(type(b))\n",
    "mytuple = (\"apple\", \"banana\", \"cherry\") \n",
    "print(mytuple[1])"
   ]
  },
  {
   "cell_type": "code",
   "execution_count": 10,
   "metadata": {
    "colab": {
     "base_uri": "https://localhost:8080/"
    },
    "executionInfo": {
     "elapsed": 37,
     "status": "ok",
     "timestamp": 1650016276329,
     "user": {
      "displayName": "Varzil Thakkar",
      "userId": "03307470386235995301"
     },
     "user_tz": -330
    },
    "id": "AJb-D_iqoWfY",
    "outputId": "1565c62e-682d-431b-9fc0-7bb21610a9af"
   },
   "outputs": [
    {
     "name": "stdout",
     "output_type": "stream",
     "text": [
      "['apple', 'banana', 'cherry', 'orange']\n"
     ]
    }
   ],
   "source": [
    "\n",
    "mylist.append(\"orange\") \n",
    "print(mylist)"
   ]
  },
  {
   "cell_type": "code",
   "execution_count": 11,
   "metadata": {
    "colab": {
     "base_uri": "https://localhost:8080/"
    },
    "executionInfo": {
     "elapsed": 34,
     "status": "ok",
     "timestamp": 1650016276330,
     "user": {
      "displayName": "Varzil Thakkar",
      "userId": "03307470386235995301"
     },
     "user_tz": -330
    },
    "id": "Ood9hWHfjY3l",
    "outputId": "f9b634d8-2b17-4796-f5fc-af9bbca4a56f"
   },
   "outputs": [
    {
     "name": "stdout",
     "output_type": "stream",
     "text": [
      "(1, 2, 3, 4)\n"
     ]
    }
   ],
   "source": [
    "b.count(3)\n",
    "\n",
    "print(b)"
   ]
  },
  {
   "cell_type": "code",
   "execution_count": 12,
   "metadata": {
    "id": "Bt567NnQjcAt"
   },
   "outputs": [],
   "source": [
    "# Dictionary\n",
    "myset = {\"apple\", \"banana\", \"cherry\"} \n",
    "tropical = {\"pineapple\", \"mango\", \"papaya\"}\n",
    "\n",
    "\n"
   ]
  },
  {
   "cell_type": "code",
   "execution_count": 13,
   "metadata": {
    "colab": {
     "base_uri": "https://localhost:8080/"
    },
    "executionInfo": {
     "elapsed": 28,
     "status": "ok",
     "timestamp": 1650016276331,
     "user": {
      "displayName": "Varzil Thakkar",
      "userId": "03307470386235995301"
     },
     "user_tz": -330
    },
    "id": "IaHCKTx3oZlY",
    "outputId": "56910661-9293-4e5d-c742-60770d7ad710"
   },
   "outputs": [
    {
     "name": "stdout",
     "output_type": "stream",
     "text": [
      "{'pineapple', 'apple', 'banana', 'cherry', 'mango', 'papaya'}\n"
     ]
    }
   ],
   "source": [
    "myset.update(tropical) \n",
    "print(myset)"
   ]
  },
  {
   "cell_type": "code",
   "execution_count": 14,
   "metadata": {
    "id": "QVVk2b_yoc3A"
   },
   "outputs": [],
   "source": [
    "\n",
    "c={\n",
    "    'three':3,\n",
    "    'four':4\n",
    "}"
   ]
  },
  {
   "cell_type": "code",
   "execution_count": 15,
   "metadata": {
    "colab": {
     "base_uri": "https://localhost:8080/"
    },
    "executionInfo": {
     "elapsed": 21,
     "status": "ok",
     "timestamp": 1650016276332,
     "user": {
      "displayName": "Varzil Thakkar",
      "userId": "03307470386235995301"
     },
     "user_tz": -330
    },
    "id": "uCB1htlDoft4",
    "outputId": "69e06583-2f39-4519-f120-b378c5c92222"
   },
   "outputs": [
    {
     "name": "stdout",
     "output_type": "stream",
     "text": [
      "{'cherry', 'apple'}\n"
     ]
    }
   ],
   "source": [
    "myset = {\"apple\", \"banana\", \"cherry\"} \n",
    "myset.remove(\"banana\")  \n",
    "print(myset)"
   ]
  },
  {
   "cell_type": "code",
   "execution_count": 16,
   "metadata": {
    "colab": {
     "base_uri": "https://localhost:8080/"
    },
    "executionInfo": {
     "elapsed": 18,
     "status": "ok",
     "timestamp": 1650016276333,
     "user": {
      "displayName": "Varzil Thakkar",
      "userId": "03307470386235995301"
     },
     "user_tz": -330
    },
    "id": "vSmN5KItohnG",
    "outputId": "f9e337c3-8011-41f3-d3c3-676dcbf29c2e"
   },
   "outputs": [
    {
     "name": "stdout",
     "output_type": "stream",
     "text": [
      "{'cherry', 'apple'}\n"
     ]
    }
   ],
   "source": [
    "myset = {\"apple\", \"banana\", \"cherry\"} \n",
    "myset.discard(\"banana\")  \n",
    "print(myset)"
   ]
  },
  {
   "cell_type": "code",
   "execution_count": 17,
   "metadata": {
    "colab": {
     "base_uri": "https://localhost:8080/"
    },
    "executionInfo": {
     "elapsed": 14,
     "status": "ok",
     "timestamp": 1650016276333,
     "user": {
      "displayName": "Varzil Thakkar",
      "userId": "03307470386235995301"
     },
     "user_tz": -330
    },
    "id": "KzCWwe_YjfTn",
    "outputId": "ce194be9-b62f-4281-dcee-9a5aa2bd2f7d"
   },
   "outputs": [
    {
     "name": "stdout",
     "output_type": "stream",
     "text": [
      "<class 'dict'>\n"
     ]
    }
   ],
   "source": [
    "print(type(c))"
   ]
  },
  {
   "cell_type": "code",
   "execution_count": 18,
   "metadata": {
    "colab": {
     "base_uri": "https://localhost:8080/"
    },
    "executionInfo": {
     "elapsed": 411,
     "status": "ok",
     "timestamp": 1650016276733,
     "user": {
      "displayName": "Varzil Thakkar",
      "userId": "03307470386235995301"
     },
     "user_tz": -330
    },
    "id": "ixtQqMhLjhqm",
    "outputId": "d9c1cf23-45ff-4540-fa76-2b684cfaa2d2"
   },
   "outputs": [
    {
     "name": "stdout",
     "output_type": "stream",
     "text": [
      "dict_keys(['three', 'four'])\n"
     ]
    }
   ],
   "source": [
    "c.get(1)\n",
    "print(c.keys())\n"
   ]
  },
  {
   "cell_type": "code",
   "execution_count": 19,
   "metadata": {
    "colab": {
     "base_uri": "https://localhost:8080/"
    },
    "executionInfo": {
     "elapsed": 15,
     "status": "ok",
     "timestamp": 1650016276734,
     "user": {
      "displayName": "Varzil Thakkar",
      "userId": "03307470386235995301"
     },
     "user_tz": -330
    },
    "id": "BgI5bk8Wjknf",
    "outputId": "e9e7983e-ca16-4f7a-ea84-10ee30937933"
   },
   "outputs": [
    {
     "name": "stdout",
     "output_type": "stream",
     "text": [
      "dict_keys(['brand', 'model', 'year'])\n",
      "dict_keys(['brand', 'model', 'year', 'color'])\n"
     ]
    }
   ],
   "source": [
    "car ={\n",
    "    \"brand\":\"Ford\",\"model\":\"Mustang\",  \"year\":1964\n",
    "}\n",
    "x =car.keys()\n",
    "print(x) #before thechange  \n",
    "car[\"color\"] = \"white\" \n",
    "print(x) #after thechange"
   ]
  },
  {
   "cell_type": "code",
   "execution_count": 20,
   "metadata": {
    "colab": {
     "base_uri": "https://localhost:8080/"
    },
    "executionInfo": {
     "elapsed": 13,
     "status": "ok",
     "timestamp": 1650016276735,
     "user": {
      "displayName": "Varzil Thakkar",
      "userId": "03307470386235995301"
     },
     "user_tz": -330
    },
    "id": "3Y3nXknKnyk_",
    "outputId": "dfe30d98-b1f8-490b-e9f3-2e47cf2f401a"
   },
   "outputs": [
    {
     "name": "stdout",
     "output_type": "stream",
     "text": [
      "{'brand': 'Ford', 'model': 'Mustang', 'year': 1964}\n",
      "Ford\n"
     ]
    }
   ],
   "source": [
    "thisdict ={\n",
    "    \"brand\":\"Ford\",\"model\":\"Mustang\",  \"year\":1964\n",
    "}\n",
    "print(thisdict)\n",
    "print(thisdict[\"brand\"])"
   ]
  },
  {
   "cell_type": "markdown",
   "metadata": {
    "id": "jMOJ8ESLoNuQ"
   },
   "source": [
    "## Question 2"
   ]
  },
  {
   "cell_type": "code",
   "execution_count": 25,
   "metadata": {},
   "outputs": [
    {
     "name": "stdout",
     "output_type": "stream",
     "text": [
      "Enter admission number 1001\n",
      "Enter name Varzil\n",
      "\n",
      "Enter admission number 1002\n",
      "Enter name ScoobyDoo\n",
      "\n",
      "Enter admission number 1003\n",
      "Enter name DalaiLama\n",
      "\n",
      "Enter admission number 1004\n",
      "Enter name chandra\n",
      "\n",
      "Enter admission number 1005\n",
      "Enter name suraj\n",
      "\n",
      "Enter admission number 1006\n",
      "Enter name This is patriarchal society\n",
      "\n",
      "Enter admission number 1007\n",
      "Enter name mary\n",
      "\n",
      "Enter admission number 1008\n",
      "Enter name yashvi\n",
      "\n",
      "Enter admission number 1009\n",
      "Enter name koini\n",
      "\n",
      "Enter admission number 1010\n",
      "Enter name ho gya\n",
      "\n",
      "1001\n",
      "Varzil\n",
      "1002\n",
      "ScoobyDoo\n",
      "1003\n",
      "DalaiLama\n",
      "1004\n",
      "chandra\n",
      "1005\n",
      "suraj\n",
      "1006\n",
      "This is patriarchal society\n",
      "1007\n",
      "mary\n",
      "1008\n",
      "yashvi\n",
      "1009\n",
      "koini\n",
      "1010\n",
      "ho gya\n"
     ]
    }
   ],
   "source": [
    "My_dict={}\n",
    "for i in range(1,11):\n",
    "    Ad_No=int(input(\"Enter admission number \"))\n",
    "    Name=input(\"Enter name \")\n",
    "    My_dict[Ad_No]=Name\n",
    "    print()\n",
    "    \n",
    "    \n",
    "for keys,values in My_dict.items():\n",
    "    print(keys)\n",
    "    print(values)\n",
    "    print()"
   ]
  },
  {
   "cell_type": "code",
   "execution_count": null,
   "metadata": {},
   "outputs": [],
   "source": []
  }
 ],
 "metadata": {
  "colab": {
   "collapsed_sections": [],
   "name": "Untitled0.ipynb",
   "provenance": []
  },
  "kernelspec": {
   "display_name": "Python 3 (ipykernel)",
   "language": "python",
   "name": "python3"
  },
  "language_info": {
   "codemirror_mode": {
    "name": "ipython",
    "version": 3
   },
   "file_extension": ".py",
   "mimetype": "text/x-python",
   "name": "python",
   "nbconvert_exporter": "python",
   "pygments_lexer": "ipython3",
   "version": "3.9.5"
  }
 },
 "nbformat": 4,
 "nbformat_minor": 1
}
