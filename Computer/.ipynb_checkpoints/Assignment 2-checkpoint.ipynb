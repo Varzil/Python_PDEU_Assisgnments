{
 "cells": [
  {
   "cell_type": "markdown",
   "metadata": {
    "colab_type": "text",
    "id": "WMMOR4ZTMN53"
   },
   "source": [
    "# Second assignment :- On python operators\n",
    "\n",
    "## Varzil Thakkar - 21BCP090\n",
    "\n",
    "## Aim: To use Arithmetic and Relational operators in Python.\n",
    "\n",
    "### Q1. WAP to take two floats as input and print all the permutations of the applicable operators on them."
   ]
  },
  {
   "cell_type": "code",
   "execution_count": 1,
   "metadata": {
    "colab": {},
    "colab_type": "code",
    "id": "JUQ4RcazOcMg"
   },
   "outputs": [
    {
     "name": "stdout",
     "output_type": "stream",
     "text": [
      "Enter first value 10.37\n",
      "Enter second value 36.99\n"
     ]
    }
   ],
   "source": [
    "a=float(input(\"Enter first value \"))\n",
    "b=float(input(\"Enter second value \"))"
   ]
  },
  {
   "cell_type": "code",
   "execution_count": 2,
   "metadata": {
    "colab": {
     "base_uri": "https://localhost:8080/",
     "height": 34
    },
    "colab_type": "code",
    "id": "SvtF1EWML5lQ",
    "outputId": "e33a7175-3924-45b1-c195-01049959b7f9"
   },
   "outputs": [
    {
     "name": "stdout",
     "output_type": "stream",
     "text": [
      "47.36\n"
     ]
    }
   ],
   "source": [
    "#1. Addition (+)\n",
    "print(a+b)"
   ]
  },
  {
   "cell_type": "code",
   "execution_count": 3,
   "metadata": {
    "colab": {
     "base_uri": "https://localhost:8080/",
     "height": 34
    },
    "colab_type": "code",
    "id": "TUIO-bLCMzm3",
    "outputId": "cdd27e39-2fd5-4b94-ff6a-7a4d9e5b90bc"
   },
   "outputs": [
    {
     "name": "stdout",
     "output_type": "stream",
     "text": [
      "-26.620000000000005\n"
     ]
    }
   ],
   "source": [
    "#2. Subtraction (-)\n",
    "print(a-b)"
   ]
  },
  {
   "cell_type": "code",
   "execution_count": 4,
   "metadata": {
    "colab": {
     "base_uri": "https://localhost:8080/",
     "height": 34
    },
    "colab_type": "code",
    "id": "_6yHe4YgNt9a",
    "outputId": "25a99b58-b11b-46b4-c97d-300b79920108"
   },
   "outputs": [
    {
     "name": "stdout",
     "output_type": "stream",
     "text": [
      "383.5863\n"
     ]
    }
   ],
   "source": [
    "#3. Multiplication (*)\n",
    "print(a*b)"
   ]
  },
  {
   "cell_type": "code",
   "execution_count": 5,
   "metadata": {
    "colab": {
     "base_uri": "https://localhost:8080/",
     "height": 34
    },
    "colab_type": "code",
    "id": "UFNZQCGdOAO9",
    "outputId": "95e497f2-3e1f-4efb-a11c-60dd547c7c7f"
   },
   "outputs": [
    {
     "name": "stdout",
     "output_type": "stream",
     "text": [
      "0.28034603947012704\n"
     ]
    }
   ],
   "source": [
    "#4. Division (/)\n",
    "print(a/b)"
   ]
  },
  {
   "cell_type": "code",
   "execution_count": 6,
   "metadata": {
    "colab": {
     "base_uri": "https://localhost:8080/",
     "height": 34
    },
    "colab_type": "code",
    "id": "2qOuRR0fOJmg",
    "outputId": "c3a07ba0-beb2-4e34-b119-bf72c69f086b"
   },
   "outputs": [
    {
     "name": "stdout",
     "output_type": "stream",
     "text": [
      "10.37\n"
     ]
    }
   ],
   "source": [
    "#5. Modulus(%)\n",
    "print(a%b)"
   ]
  },
  {
   "cell_type": "code",
   "execution_count": 7,
   "metadata": {
    "colab": {
     "base_uri": "https://localhost:8080/",
     "height": 34
    },
    "colab_type": "code",
    "id": "8zl8bRqeOJv7",
    "outputId": "855ff54d-e578-497a-c854-5786f00697de"
   },
   "outputs": [
    {
     "name": "stdout",
     "output_type": "stream",
     "text": [
      "3.746762792880301e+37\n"
     ]
    }
   ],
   "source": [
    "#6. Exponentiation (**)\n",
    "print(a**b)"
   ]
  },
  {
   "cell_type": "code",
   "execution_count": 8,
   "metadata": {
    "colab": {
     "base_uri": "https://localhost:8080/",
     "height": 34
    },
    "colab_type": "code",
    "id": "bbfph712OJ81",
    "outputId": "f3b3966a-35ad-4ec9-f78e-b0b49df28cbe"
   },
   "outputs": [
    {
     "name": "stdout",
     "output_type": "stream",
     "text": [
      "0.0\n"
     ]
    }
   ],
   "source": [
    "#7. Floor Division (//)\n",
    "print(a//b)"
   ]
  },
  {
   "cell_type": "markdown",
   "metadata": {
    "colab_type": "text",
    "id": "1Pzf8paDQMC7"
   },
   "source": [
    "# 2. Assignment Operators: \n",
    "\n",
    "---\n",
    "\n",
    "Assignment operators are used to assign values to variables:"
   ]
  },
  {
   "cell_type": "code",
   "execution_count": 9,
   "metadata": {
    "colab": {
     "base_uri": "https://localhost:8080/",
     "height": 34
    },
    "colab_type": "code",
    "id": "AB6o_ZNRQiUD",
    "outputId": "95a452b7-a052-4010-b234-bf81af0741c0"
   },
   "outputs": [
    {
     "name": "stdout",
     "output_type": "stream",
     "text": [
      "47.36\n"
     ]
    }
   ],
   "source": [
    "# \"+=\" Operator\n",
    "a+=b\n",
    "print(a)"
   ]
  },
  {
   "cell_type": "code",
   "execution_count": 10,
   "metadata": {
    "colab": {
     "base_uri": "https://localhost:8080/",
     "height": 34
    },
    "colab_type": "code",
    "id": "Kqpjj93EQ2ql",
    "outputId": "f75ddace-cafa-4da7-bd8c-666597897bf4"
   },
   "outputs": [
    {
     "name": "stdout",
     "output_type": "stream",
     "text": [
      "10.369999999999997\n"
     ]
    }
   ],
   "source": [
    "# '-=' Operator\n",
    "a-=b\n",
    "print(a)"
   ]
  },
  {
   "cell_type": "code",
   "execution_count": 11,
   "metadata": {
    "colab": {
     "base_uri": "https://localhost:8080/",
     "height": 34
    },
    "colab_type": "code",
    "id": "U2a3tBqmQ9_U",
    "outputId": "2abd8e15-b09b-4777-a8f0-49f36cc3b62d"
   },
   "outputs": [
    {
     "name": "stdout",
     "output_type": "stream",
     "text": [
      "383.58629999999994\n"
     ]
    }
   ],
   "source": [
    "# '*=' Operator\n",
    "a*=b\n",
    "print(a)"
   ]
  },
  {
   "cell_type": "code",
   "execution_count": 12,
   "metadata": {
    "colab": {
     "base_uri": "https://localhost:8080/",
     "height": 34
    },
    "colab_type": "code",
    "id": "5ShKfsHERGRh",
    "outputId": "919c1488-64c7-4533-b4b5-9819646e5323"
   },
   "outputs": [
    {
     "name": "stdout",
     "output_type": "stream",
     "text": [
      "10.369999999999997\n"
     ]
    }
   ],
   "source": [
    "# '/=' Operator\n",
    "a/=b\n",
    "print(a)"
   ]
  },
  {
   "cell_type": "code",
   "execution_count": 13,
   "metadata": {
    "colab": {
     "base_uri": "https://localhost:8080/",
     "height": 34
    },
    "colab_type": "code",
    "id": "zp0yBr7NRL-o",
    "outputId": "05b4203b-8de4-4fa3-8e51-406e12ddc8e5"
   },
   "outputs": [
    {
     "name": "stdout",
     "output_type": "stream",
     "text": [
      "10.369999999999997\n"
     ]
    }
   ],
   "source": [
    "# '%=' Operator\n",
    "a%=b\n",
    "print(a)"
   ]
  },
  {
   "cell_type": "code",
   "execution_count": 14,
   "metadata": {
    "colab": {
     "base_uri": "https://localhost:8080/",
     "height": 34
    },
    "colab_type": "code",
    "id": "6DwAg7s0RWfM",
    "outputId": "9534ee68-836b-46ed-b78a-8990f87cdf6e"
   },
   "outputs": [
    {
     "name": "stdout",
     "output_type": "stream",
     "text": [
      "0.0\n"
     ]
    }
   ],
   "source": [
    "# '//=' Operator\n",
    "a//=b\n",
    "print(a)"
   ]
  },
  {
   "cell_type": "code",
   "execution_count": 15,
   "metadata": {
    "colab": {
     "base_uri": "https://localhost:8080/",
     "height": 34
    },
    "colab_type": "code",
    "id": "2pQeDOYjRezI",
    "outputId": "416bf597-8eeb-4812-cce1-cde4aef0a953"
   },
   "outputs": [
    {
     "name": "stdout",
     "output_type": "stream",
     "text": [
      "0.0\n"
     ]
    }
   ],
   "source": [
    "# \"**=\"\n",
    "a**=b\n",
    "print(a)"
   ]
  },
  {
   "cell_type": "markdown",
   "metadata": {
    "colab_type": "text",
    "id": "biueDFTiR3kS"
   },
   "source": [
    "# 3. Comparison Operators:\n",
    "\n",
    "---\n",
    "\n",
    "Comparison operators are used to compare two values:"
   ]
  },
  {
   "cell_type": "code",
   "execution_count": 16,
   "metadata": {
    "colab": {
     "base_uri": "https://localhost:8080/",
     "height": 34
    },
    "colab_type": "code",
    "id": "DzJApDnDSHQf",
    "outputId": "48a32571-4cdf-448a-84ce-f402b03f915a"
   },
   "outputs": [
    {
     "name": "stdout",
     "output_type": "stream",
     "text": [
      "False\n"
     ]
    }
   ],
   "source": [
    "# Equal (==) Operator\n",
    "print(a==b)"
   ]
  },
  {
   "cell_type": "code",
   "execution_count": 17,
   "metadata": {
    "colab": {
     "base_uri": "https://localhost:8080/",
     "height": 34
    },
    "colab_type": "code",
    "id": "kTFyzkjUSW3t",
    "outputId": "031e131a-2618-4b73-e5be-180a5d9a2f53"
   },
   "outputs": [
    {
     "name": "stdout",
     "output_type": "stream",
     "text": [
      "True\n"
     ]
    }
   ],
   "source": [
    "# Not equal (!=) Operator\n",
    "print(a!=b)"
   ]
  },
  {
   "cell_type": "code",
   "execution_count": 18,
   "metadata": {
    "colab": {
     "base_uri": "https://localhost:8080/",
     "height": 34
    },
    "colab_type": "code",
    "id": "Arqk5tpqSfz1",
    "outputId": "9e83c4cd-e32c-4798-99c2-e7763cac0d2a"
   },
   "outputs": [
    {
     "name": "stdout",
     "output_type": "stream",
     "text": [
      "False\n"
     ]
    }
   ],
   "source": [
    "# Greater than (>) Operator\n",
    "print(a>b)"
   ]
  },
  {
   "cell_type": "code",
   "execution_count": 19,
   "metadata": {
    "colab": {
     "base_uri": "https://localhost:8080/",
     "height": 34
    },
    "colab_type": "code",
    "id": "TjO83sJcSn7q",
    "outputId": "964066da-6776-403d-9006-993d8f61b4f8"
   },
   "outputs": [
    {
     "name": "stdout",
     "output_type": "stream",
     "text": [
      "True\n"
     ]
    }
   ],
   "source": [
    "# Less than (<) Operator\n",
    "print(a<b)"
   ]
  },
  {
   "cell_type": "code",
   "execution_count": 20,
   "metadata": {
    "colab": {
     "base_uri": "https://localhost:8080/",
     "height": 34
    },
    "colab_type": "code",
    "id": "kx0qUZTVS06F",
    "outputId": "bd24f8e2-114a-4553-a098-54555282fc45"
   },
   "outputs": [
    {
     "name": "stdout",
     "output_type": "stream",
     "text": [
      "False\n"
     ]
    }
   ],
   "source": [
    "# Greater than or equal to (>=) Operator\n",
    "print(a>=b)"
   ]
  },
  {
   "cell_type": "code",
   "execution_count": 21,
   "metadata": {
    "colab": {
     "base_uri": "https://localhost:8080/",
     "height": 34
    },
    "colab_type": "code",
    "id": "p4ftt88vS9MF",
    "outputId": "438e6941-e693-4185-ba82-9ff4c2454513"
   },
   "outputs": [
    {
     "name": "stdout",
     "output_type": "stream",
     "text": [
      "True\n"
     ]
    }
   ],
   "source": [
    "# Less than or equal to (<=) Operator\n",
    "print(a<=b)"
   ]
  },
  {
   "cell_type": "markdown",
   "metadata": {
    "colab_type": "text",
    "id": "wsIpPt3nTMP0"
   },
   "source": [
    "# 4. Logical Operators:\n",
    "\n",
    "---\n",
    "\n",
    "Logical operators are used to combine conditional statements:\n"
   ]
  },
  {
   "cell_type": "code",
   "execution_count": 22,
   "metadata": {
    "colab": {
     "base_uri": "https://localhost:8080/",
     "height": 51
    },
    "colab_type": "code",
    "id": "glMCYXPCTCnx",
    "outputId": "576169a2-dccb-498b-e787-5c15f91b8b21"
   },
   "outputs": [
    {
     "name": "stdout",
     "output_type": "stream",
     "text": [
      "0.0\n",
      "False\n"
     ]
    }
   ],
   "source": [
    "# 'and' Operator : Returns True if both statements are true\n",
    "print(a and b)\n",
    "print(a < 5 and  b < 10)"
   ]
  },
  {
   "cell_type": "code",
   "execution_count": 23,
   "metadata": {
    "colab": {
     "base_uri": "https://localhost:8080/",
     "height": 51
    },
    "colab_type": "code",
    "id": "JEhvdOCfTimp",
    "outputId": "18def955-f536-40b7-f081-900d6b26af81"
   },
   "outputs": [
    {
     "name": "stdout",
     "output_type": "stream",
     "text": [
      "36.99\n",
      "True\n"
     ]
    }
   ],
   "source": [
    "# 'or' Operator : Returns True if one of the statements is true\n",
    "print(a or b)\n",
    "print(a < 5 or b < 4)"
   ]
  },
  {
   "cell_type": "code",
   "execution_count": 24,
   "metadata": {
    "colab": {
     "base_uri": "https://localhost:8080/",
     "height": 34
    },
    "colab_type": "code",
    "id": "5_PkPeiUTk05",
    "outputId": "3feae1d1-7f88-430f-dbf8-5ae4a37c4ee1"
   },
   "outputs": [
    {
     "name": "stdout",
     "output_type": "stream",
     "text": [
      "True\n"
     ]
    }
   ],
   "source": [
    "# 'not' Operator: Reverse the result, returns False if the result is true\n",
    "print(not(a < 5 and b < 10))"
   ]
  },
  {
   "cell_type": "markdown",
   "metadata": {},
   "source": [
    "### Q2. WAP to take 5 integer values as input and print the quotient and remainder when the maximum of them is divided by the minimum of them."
   ]
  },
  {
   "cell_type": "code",
   "execution_count": 25,
   "metadata": {},
   "outputs": [
    {
     "name": "stdout",
     "output_type": "stream",
     "text": [
      "3\n",
      "4\n",
      "5\n",
      "2\n",
      "2.5\n",
      "1\n"
     ]
    }
   ],
   "source": [
    "MyList=[]\n",
    "\n",
    " \n",
    "# iterating till the range\n",
    "for i in range(0, 4):\n",
    "    ele = int(input())\n",
    " \n",
    "    MyList.append(ele) # adding the element\n",
    "     \n",
    "maxEle=max(MyList)\n",
    "minEle=min(MyList)\n",
    "\n",
    "# The quotient\n",
    "print(maxEle/minEle)\n",
    "# The remainder\n",
    "print(maxEle%minEle)"
   ]
  },
  {
   "cell_type": "code",
   "execution_count": null,
   "metadata": {},
   "outputs": [],
   "source": []
  }
 ],
 "metadata": {
  "colab": {
   "name": "Python_Operators.ipynb",
   "provenance": [],
   "version": "0.3.2"
  },
  "kernelspec": {
   "display_name": "Python 3 (ipykernel)",
   "language": "python",
   "name": "python3"
  },
  "language_info": {
   "codemirror_mode": {
    "name": "ipython",
    "version": 3
   },
   "file_extension": ".py",
   "mimetype": "text/x-python",
   "name": "python",
   "nbconvert_exporter": "python",
   "pygments_lexer": "ipython3",
   "version": "3.9.5"
  }
 },
 "nbformat": 4,
 "nbformat_minor": 1
}
