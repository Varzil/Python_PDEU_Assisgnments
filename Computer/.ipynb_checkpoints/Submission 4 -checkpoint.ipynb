{
 "cells": [
  {
   "cell_type": "markdown",
   "id": "1751ba00",
   "metadata": {},
   "source": [
    "# Assignment 4\n",
    "\n",
    "## Varzil Thakkar - 21BCP090\n",
    "\n",
    "## Aim: To implement concepts of Functional Programming in Python"
   ]
  },
  {
   "cell_type": "markdown",
   "id": "93d7f907",
   "metadata": {},
   "source": [
    "### Q1. Take a single input from  user and return its integer value."
   ]
  },
  {
   "cell_type": "code",
   "execution_count": 13,
   "id": "2aab0eff",
   "metadata": {},
   "outputs": [
    {
     "name": "stdout",
     "output_type": "stream",
     "text": [
      "Enter the value : 343.442366\n",
      "343\n"
     ]
    }
   ],
   "source": [
    "def MyInt(a):\n",
    "    return int(a)\n",
    "\n",
    "inp=float(input(\"Enter the value : \"))\n",
    "\n",
    "# Checking \n",
    "# print(type(inp))\n",
    "\n",
    "fun=MyInt(inp)\n",
    "print(fun)"
   ]
  },
  {
   "cell_type": "markdown",
   "id": "79f788a0",
   "metadata": {},
   "source": [
    "### Q2. Print the results of the  arithmetic operations as shown\n",
    "\n",
    "Output:\n",
    "\n",
    "Enter the value of  a\n",
    ">25\n",
    "\n",
    "Enter the value of  b\n",
    ">5\n",
    "\n",
    "\n",
    "Adding 25 with 5\n",
    "Ans:  30\n",
    "\n",
    "Subtracting 5  from 25\n",
    "Ans:  20\n",
    "\n",
    "Multiplying 25 with 5\n",
    "Ans:  125\n",
    "\n",
    "Dividing  25 by  5\n",
    "Ans:  5"
   ]
  },
  {
   "cell_type": "code",
   "execution_count": 9,
   "id": "2c70965b",
   "metadata": {},
   "outputs": [
    {
     "name": "stdout",
     "output_type": "stream",
     "text": [
      "Enter the value of a 25\n",
      "Enter the value of b 5\n"
     ]
    }
   ],
   "source": [
    "a=int(input(\"Enter the value of a \"))\n",
    "b=int(input(\"Enter the value of b \"))"
   ]
  },
  {
   "cell_type": "code",
   "execution_count": 10,
   "id": "3b5f8c7c",
   "metadata": {},
   "outputs": [],
   "source": [
    "def add(a,b):\n",
    "    return a+b\n",
    "def sub(a,b):\n",
    "    return a-b\n",
    "def mul(a,b):\n",
    "    return a*b\n",
    "def div(a,b):\n",
    "    return a/b\n"
   ]
  },
  {
   "cell_type": "code",
   "execution_count": 14,
   "id": "667d28f4",
   "metadata": {},
   "outputs": [
    {
     "name": "stdout",
     "output_type": "stream",
     "text": [
      "Adding 25 with 5 Ans: 30\n",
      "Subtracting 5 from 25 Ans: 20\n",
      "Multiplying 25 with 5 Ans: 125\n",
      "Dividing 25 by 5 Ans: 30\n"
     ]
    }
   ],
   "source": [
    "print('Adding {0} with {1} Ans: {2}'.format(a,b,add(a,b)))\n",
    "print('Subtracting {0} from {1} Ans: {2}'.format(b,a,sub(a,b)))\n",
    "print('Multiplying {0} with {1} Ans: {2}'.format(a,b,mul(a,b)))\n",
    "print('Dividing {0} by {1} Ans: {2}'.format(a,b,add(a,b)))"
   ]
  },
  {
   "cell_type": "code",
   "execution_count": null,
   "id": "19b3027a",
   "metadata": {},
   "outputs": [],
   "source": []
  }
 ],
 "metadata": {
  "kernelspec": {
   "display_name": "Python 3 (ipykernel)",
   "language": "python",
   "name": "python3"
  },
  "language_info": {
   "codemirror_mode": {
    "name": "ipython",
    "version": 3
   },
   "file_extension": ".py",
   "mimetype": "text/x-python",
   "name": "python",
   "nbconvert_exporter": "python",
   "pygments_lexer": "ipython3",
   "version": "3.9.5"
  }
 },
 "nbformat": 4,
 "nbformat_minor": 5
}
