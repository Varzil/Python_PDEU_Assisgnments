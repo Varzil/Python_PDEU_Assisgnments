{
 "cells": [
  {
   "cell_type": "markdown",
   "id": "84dacbcd",
   "metadata": {},
   "source": [
    "# Assignment 10\n",
    "\n",
    "## Name :- Varzil Thakkar\n",
    "## Roll No :- 21BCP090\n"
   ]
  },
  {
   "cell_type": "markdown",
   "id": "1d09b4c0",
   "metadata": {},
   "source": [
    "### Implementing the Bubble Sort"
   ]
  },
  {
   "cell_type": "code",
   "execution_count": 9,
   "id": "933bede3",
   "metadata": {},
   "outputs": [
    {
     "name": "stdout",
     "output_type": "stream",
     "text": [
      "1\n",
      "2\n",
      "3\n",
      "4\n",
      "5\n",
      "6\n",
      "7\n",
      "8\n",
      "9\n"
     ]
    }
   ],
   "source": [
    "def bubbleSort(arr):\n",
    "     \n",
    "    n = len(arr)\n",
    " \n",
    "    # For loop to traverse through all element in an array\n",
    "    for i in range(n):\n",
    "        for j in range(0, n - i - 1):\n",
    "             \n",
    "            # Range of the array is from 0 to n-i-1\n",
    "            # Swap the elements if the element found is greater than the adjacent element\n",
    "            if arr[j] > arr[j + 1]:\n",
    "                arr[j], arr[j + 1] = arr[j + 1], arr[j]\n",
    "\n",
    "def printArr(arr):\n",
    "    for i in range(len(arr)):\n",
    "        print(\"%d\" % arr[i])\n",
    "\n",
    "myArr=[9,8,7,6,5,4,3,2,1]\n",
    "bubbleSort(myArr)\n",
    "printArr(myArr)"
   ]
  },
  {
   "cell_type": "markdown",
   "id": "37bf7e70",
   "metadata": {},
   "source": [
    "### Implementing the Selection Sort"
   ]
  },
  {
   "cell_type": "code",
   "execution_count": 15,
   "id": "c264106e",
   "metadata": {},
   "outputs": [],
   "source": [
    "def selectionSort(array):\n",
    "     size=len(array)\n",
    "     for s in range(size):\n",
    "        min_idx = s\n",
    "         \n",
    "        for i in range(s + 1, size):\n",
    "             \n",
    "            # For sorting in descending order for minimum element in each loop\n",
    "            if array[i] < array[min_idx]:\n",
    "                min_idx = i\n",
    "                \n",
    "        # Arranging min at the correct position\n",
    "        (array[s], array[min_idx]) = (array[min_idx], array[s])\n",
    " "
   ]
  },
  {
   "cell_type": "code",
   "execution_count": 17,
   "id": "f2473463",
   "metadata": {},
   "outputs": [],
   "source": [
    "myArr=[9,8,7,6,5,4,3,2,1]\n",
    "selectionSort(myArr)"
   ]
  },
  {
   "cell_type": "code",
   "execution_count": 18,
   "id": "7f431d79",
   "metadata": {},
   "outputs": [
    {
     "name": "stdout",
     "output_type": "stream",
     "text": [
      "1\n",
      "2\n",
      "3\n",
      "4\n",
      "5\n",
      "6\n",
      "7\n",
      "8\n",
      "9\n"
     ]
    }
   ],
   "source": [
    "printArr(myArr)"
   ]
  },
  {
   "cell_type": "markdown",
   "id": "837e8ef5",
   "metadata": {},
   "source": [
    "### Implementing the Insertion Sort"
   ]
  },
  {
   "cell_type": "code",
   "execution_count": 19,
   "id": "41d63c66",
   "metadata": {},
   "outputs": [],
   "source": [
    "def insertion_sort(list1): \n",
    "   \n",
    "        # Outer loop to traverse on len(list1) \n",
    "        for i in range(1, len(list1)): \n",
    "   \n",
    "            a = list1[i] \n",
    "   \n",
    "            # Move elements of list1[0 to i-1],which are greater to one position\n",
    "            # ahead of their current position \n",
    "            j = i - 1 \n",
    "           \n",
    "            while j >= 0 and a < list1[j]: \n",
    "                list1[j + 1] = list1[j] \n",
    "                j -= 1 \n",
    "                 \n",
    "            list1[j + 1] = a \n"
   ]
  },
  {
   "cell_type": "code",
   "execution_count": 21,
   "id": "1b3c1c7b",
   "metadata": {},
   "outputs": [
    {
     "name": "stdout",
     "output_type": "stream",
     "text": [
      "1\n",
      "2\n",
      "3\n",
      "4\n",
      "5\n",
      "6\n",
      "7\n",
      "8\n",
      "9\n"
     ]
    }
   ],
   "source": [
    "myArr=[9,8,7,6,5,4,3,2,1]\n",
    "insertion_sort(myArr)\n",
    "printArr(myArr)"
   ]
  },
  {
   "cell_type": "markdown",
   "id": "d0639b9f",
   "metadata": {},
   "source": [
    "### Implementing the Merge Sort"
   ]
  },
  {
   "cell_type": "code",
   "execution_count": 22,
   "id": "9f74f43e",
   "metadata": {},
   "outputs": [],
   "source": [
    "def merge(arr, l, m, r):\n",
    "    n1 = m - l + 1\n",
    "    n2 = r - m\n",
    " \n",
    "    # create temp arrays\n",
    "    L = [0] * (n1)\n",
    "    R = [0] * (n2)\n",
    " \n",
    "    # Copy data to temp arrays L[] and R[]\n",
    "    for i in range(0, n1):\n",
    "        L[i] = arr[l + i]\n",
    " \n",
    "    for j in range(0, n2):\n",
    "        R[j] = arr[m + 1 + j]\n",
    " \n",
    "    # Merge the temp arrays back into arr[l..r]\n",
    "    i = 0     # Initial index of first subarray\n",
    "    j = 0     # Initial index of second subarray\n",
    "    k = l     # Initial index of merged subarray\n",
    " \n",
    "    while i < n1 and j < n2:\n",
    "        if L[i] <= R[j]:\n",
    "            arr[k] = L[i]\n",
    "            i += 1\n",
    "        else:\n",
    "            arr[k] = R[j]\n",
    "            j += 1\n",
    "        k += 1\n",
    " \n",
    "    # Copy the remaining elements of L[], if there\n",
    "    # are any\n",
    "    while i < n1:\n",
    "        arr[k] = L[i]\n",
    "        i += 1\n",
    "        k += 1\n",
    " \n",
    "    # Copy the remaining elements of R[], if there\n",
    "    # are any\n",
    "    while j < n2:\n",
    "        arr[k] = R[j]\n",
    "        j += 1\n",
    "        k += 1\n",
    " \n",
    "# l is for left index and r is right index of the\n",
    "# sub-array of arr to be sorted\n",
    " \n",
    " \n",
    "def mergeSort(arr, l, r):\n",
    "    if l < r:\n",
    " \n",
    "        # Same as (l+r)//2, but avoids overflow for\n",
    "        # large l and h\n",
    "        m = l+(r-l)//2\n",
    " \n",
    "        # Sort first and second halves\n",
    "        mergeSort(arr, l, m)\n",
    "        mergeSort(arr, m+1, r)\n",
    "        merge(arr, l, m, r)\n",
    "        \n"
   ]
  },
  {
   "cell_type": "code",
   "execution_count": 25,
   "id": "a234215a",
   "metadata": {},
   "outputs": [
    {
     "name": "stdout",
     "output_type": "stream",
     "text": [
      "1\n",
      "2\n",
      "3\n",
      "4\n",
      "5\n",
      "6\n",
      "7\n",
      "8\n",
      "9\n"
     ]
    }
   ],
   "source": [
    "myArr=[9,8,7,6,5,4,3,2,1]\n",
    "mergeSort(myArr,0,len(myArr)-1)\n",
    "printArr(myArr)"
   ]
  },
  {
   "cell_type": "code",
   "execution_count": 27,
   "id": "482b9a89",
   "metadata": {},
   "outputs": [
    {
     "name": "stdout",
     "output_type": "stream",
     "text": [
      "9\n",
      "8\n",
      "7\n",
      "4\n",
      "5\n",
      "6\n",
      "3\n",
      "2\n",
      "1\n"
     ]
    }
   ],
   "source": [
    "# merge sort used to sort some values in between EXAMPLE:\n",
    "myArr=[9,8,7,6,5,4,3,2,1]\n",
    "mergeSort(myArr,3,len(myArr)-4)\n",
    "printArr(myArr)\n",
    "#this will sort the elements from position 4(3+1) to 6(10-4)"
   ]
  },
  {
   "cell_type": "code",
   "execution_count": null,
   "id": "45647671",
   "metadata": {},
   "outputs": [],
   "source": []
  }
 ],
 "metadata": {
  "kernelspec": {
   "display_name": "Python 3 (ipykernel)",
   "language": "python",
   "name": "python3"
  },
  "language_info": {
   "codemirror_mode": {
    "name": "ipython",
    "version": 3
   },
   "file_extension": ".py",
   "mimetype": "text/x-python",
   "name": "python",
   "nbconvert_exporter": "python",
   "pygments_lexer": "ipython3",
   "version": "3.9.5"
  }
 },
 "nbformat": 4,
 "nbformat_minor": 5
}
