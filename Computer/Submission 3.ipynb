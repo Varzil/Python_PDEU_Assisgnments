{
 "cells": [
  {
   "cell_type": "markdown",
   "id": "d805b2aa",
   "metadata": {},
   "source": [
    "# Submission 3"
   ]
  },
  {
   "cell_type": "markdown",
   "id": "d0176f68",
   "metadata": {},
   "source": [
    "## Name - Varzil Thakkar\n",
    "## Roll No - 21BCP090"
   ]
  },
  {
   "cell_type": "markdown",
   "id": "c3f41ee4",
   "metadata": {},
   "source": [
    "### Q1. Input an integer, and print the multiplication table for the  number."
   ]
  },
  {
   "cell_type": "code",
   "execution_count": 1,
   "id": "e66fa905",
   "metadata": {},
   "outputs": [
    {
     "name": "stdout",
     "output_type": "stream",
     "text": [
      "Enter the number 139\n"
     ]
    }
   ],
   "source": [
    "x=int(input(\"Enter the number \"))"
   ]
  },
  {
   "cell_type": "code",
   "execution_count": 2,
   "id": "51c336e2",
   "metadata": {},
   "outputs": [
    {
     "name": "stdout",
     "output_type": "stream",
     "text": [
      "139 x 1 = 139\n",
      "139 x 2 = 278\n",
      "139 x 3 = 417\n",
      "139 x 4 = 556\n",
      "139 x 5 = 695\n",
      "139 x 6 = 834\n",
      "139 x 7 = 973\n",
      "139 x 8 = 1112\n",
      "139 x 9 = 1251\n",
      "139 x 10 = 1390\n"
     ]
    }
   ],
   "source": [
    "for i in range (1,11):\n",
    "    mul=x*i\n",
    "    print(\"{} x {} = {}\".format(x,i,mul))"
   ]
  },
  {
   "cell_type": "markdown",
   "id": "36dc9690",
   "metadata": {},
   "source": [
    "### Q2. Input 10 characters using while loop and count how many vowels are there."
   ]
  },
  {
   "cell_type": "code",
   "execution_count": 3,
   "id": "f3d3db74",
   "metadata": {},
   "outputs": [
    {
     "name": "stdout",
     "output_type": "stream",
     "text": [
      "Enter character : w\n",
      "It is Not a vowel\n",
      "Enter character : e\n",
      "It is a vowel\n",
      "Enter character : r\n",
      "It is Not a vowel\n",
      "Enter character : t\n",
      "It is Not a vowel\n",
      "Enter character : y\n",
      "It is Not a vowel\n",
      "Enter character : u\n",
      "It is a vowel\n",
      "Enter character : i\n",
      "It is a vowel\n",
      "Enter character : o\n",
      "It is a vowel\n",
      "Enter character : p\n",
      "It is Not a vowel\n",
      "Enter character : ;\n",
      "It is Not a vowel\n"
     ]
    }
   ],
   "source": [
    "n=10\n",
    "while n:\n",
    "    c= (input(\"Enter character : \"))\n",
    "    if c=='a' or c=='e' or c=='i' or c=='o' or c=='u' or c=='A' or c=='E' or c=='I' or c=='O' or c=='U':\n",
    "        print(\"It is a vowel\")\n",
    "    else:\n",
    "        print(\"It is Not a vowel\")\n",
    "    n-=1"
   ]
  },
  {
   "cell_type": "markdown",
   "id": "30354569",
   "metadata": {},
   "source": [
    "### Q3. Find sum of numbers from 1 to 100 which are divisible by either 2 or3. (Hint : use while loop + compound if statement -“or”)"
   ]
  },
  {
   "cell_type": "code",
   "execution_count": 4,
   "id": "f23e45a9",
   "metadata": {},
   "outputs": [
    {
     "name": "stdout",
     "output_type": "stream",
     "text": [
      "3417\n"
     ]
    }
   ],
   "source": [
    "n=100\n",
    "sum=0\n",
    "while n:\n",
    "    if n%2==0 or n%3==0:\n",
    "        sum+=n\n",
    "    n-=1\n",
    "print(sum)    "
   ]
  },
  {
   "cell_type": "markdown",
   "id": "5f7bab69",
   "metadata": {},
   "source": [
    "### Q4.Input a float number which will be the side of a square,  prompt user to enter a positive value if user inputs a  negative value. Finally calculate the area of the square.  (Hint : use “continue”)"
   ]
  },
  {
   "cell_type": "code",
   "execution_count": 5,
   "id": "4b1e1720",
   "metadata": {},
   "outputs": [
    {
     "name": "stdout",
     "output_type": "stream",
     "text": [
      "Enter side of square : -30\n",
      "Enter positive value\n",
      "Enter side of square : -21\n",
      "Enter positive value\n",
      "Enter side of square : 11.44\n",
      "130.87359999999998\n"
     ]
    }
   ],
   "source": [
    "x= float(input(\"Enter side of square : \"))\n",
    "while x:\n",
    "    if(x>0):\n",
    "        print(x*x)\n",
    "        break\n",
    "    else:\n",
    "        print(\"Enter positive value\")\n",
    "        x= float(input(\"Enter side of square : \"))\n",
    "        continue"
   ]
  },
  {
   "cell_type": "code",
   "execution_count": null,
   "id": "81704ab2",
   "metadata": {},
   "outputs": [],
   "source": []
  }
 ],
 "metadata": {
  "kernelspec": {
   "display_name": "Python 3 (ipykernel)",
   "language": "python",
   "name": "python3"
  },
  "language_info": {
   "codemirror_mode": {
    "name": "ipython",
    "version": 3
   },
   "file_extension": ".py",
   "mimetype": "text/x-python",
   "name": "python",
   "nbconvert_exporter": "python",
   "pygments_lexer": "ipython3",
   "version": "3.9.5"
  }
 },
 "nbformat": 4,
 "nbformat_minor": 5
}
