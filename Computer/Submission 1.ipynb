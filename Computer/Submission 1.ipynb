{
 "cells": [
  {
   "cell_type": "markdown",
   "id": "edfc225a",
   "metadata": {},
   "source": [
    "# My Submission\n",
    "## Name: Varzil Thakkar\n",
    "## Roll No: 21BCP090"
   ]
  },
  {
   "cell_type": "code",
   "execution_count": null,
   "id": "b30ec852",
   "metadata": {},
   "outputs": [],
   "source": []
  },
  {
   "cell_type": "markdown",
   "id": "48fe2a16",
   "metadata": {},
   "source": [
    "### Q1. WAP to take 2 float values to add, subtract, multiply and divide them and print their fractional representation."
   ]
  },
  {
   "cell_type": "code",
   "execution_count": 19,
   "id": "dd616852",
   "metadata": {},
   "outputs": [
    {
     "name": "stdout",
     "output_type": "stream",
     "text": [
      "Enter 2 floating values\n",
      "Enter first value 20.99\n",
      "Enter second value 30.77\n"
     ]
    }
   ],
   "source": [
    "print(\"Enter 2 floating values\")\n",
    "#Taking inputs\n",
    "x=float(input(\"Enter first value \"))\n",
    "y=float(input(\"Enter second value \"))\n"
   ]
  },
  {
   "cell_type": "code",
   "execution_count": 20,
   "id": "657c79c2",
   "metadata": {},
   "outputs": [],
   "source": [
    "sum=x+y\n",
    "diff=x-y\n",
    "mul=x*y\n",
    "div=x/y"
   ]
  },
  {
   "cell_type": "code",
   "execution_count": 21,
   "id": "03e18a08",
   "metadata": {},
   "outputs": [
    {
     "name": "stdout",
     "output_type": "stream",
     "text": [
      "7284572397271777/140737488355328\n",
      "-344103159028777/35184372088832\n",
      "5681064870337209/8796093022208\n",
      "3072166271644677/4503599627370496\n"
     ]
    }
   ],
   "source": [
    "from fractions import Fraction\n",
    "print (Fraction(sum))\n",
    "print (Fraction(diff))\n",
    "print (Fraction(mul))\n",
    "print (Fraction(div))"
   ]
  },
  {
   "cell_type": "markdown",
   "id": "0ff427b1",
   "metadata": {},
   "source": [
    "### Q2 WAP to take 5 float values and print maximum and minimum of them"
   ]
  },
  {
   "cell_type": "code",
   "execution_count": 41,
   "id": "b7e5f75a",
   "metadata": {},
   "outputs": [
    {
     "name": "stdout",
     "output_type": "stream",
     "text": [
      "Enter number of elements : 4\n",
      "1\n",
      "2\n",
      "3\n",
      "4\n",
      "The maximum is 4\n",
      "The minimum is 1\n"
     ]
    }
   ],
   "source": [
    "lst = []\n",
    "n = int(input(\"Enter number of elements : \"))\n",
    " \n",
    "for i in range(0, n):\n",
    "    ele = int(input())\n",
    "    lst.append(ele)\n",
    "     \n",
    "print('The maximum is '+ str(max(lst)))\n",
    "print('The minimum is '+ str(min(lst)))"
   ]
  },
  {
   "cell_type": "markdown",
   "id": "e9edaa91",
   "metadata": {},
   "source": [
    "### Q3 WAP to print your name in uppercase, lowercase and titlecase "
   ]
  },
  {
   "cell_type": "code",
   "execution_count": 46,
   "id": "a4b5a2f7",
   "metadata": {},
   "outputs": [
    {
     "name": "stdout",
     "output_type": "stream",
     "text": [
      "Enter your name : VarzIL\n",
      "VARZIL\n",
      "varzil\n",
      "Varzil\n"
     ]
    }
   ],
   "source": [
    "name=input(\"Enter your name : \")\n",
    "print(name.upper())\n",
    "print(name.lower())\n",
    "print(name.title())"
   ]
  },
  {
   "cell_type": "code",
   "execution_count": null,
   "id": "e8178450",
   "metadata": {},
   "outputs": [],
   "source": []
  }
 ],
 "metadata": {
  "kernelspec": {
   "display_name": "Python 3 (ipykernel)",
   "language": "python",
   "name": "python3"
  },
  "language_info": {
   "codemirror_mode": {
    "name": "ipython",
    "version": 3
   },
   "file_extension": ".py",
   "mimetype": "text/x-python",
   "name": "python",
   "nbconvert_exporter": "python",
   "pygments_lexer": "ipython3",
   "version": "3.9.5"
  }
 },
 "nbformat": 4,
 "nbformat_minor": 5
}
